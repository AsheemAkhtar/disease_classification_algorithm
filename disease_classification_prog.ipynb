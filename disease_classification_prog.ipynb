{
 "cells": [
  {
   "cell_type": "markdown",
   "id": "3732a475",
   "metadata": {},
   "source": [
    "## IMPORTANT POINTS"
   ]
  },
  {
   "cell_type": "markdown",
   "id": "39700cd4",
   "metadata": {},
   "source": [
    "## - In this task i was asked to create a tool to predict the disease of Ms Sara & i was asked to tell the likelihood of it being Covid or Malaria but I ADDED MORE DISEASE"
   ]
  },
  {
   "cell_type": "markdown",
   "id": "793f9f85",
   "metadata": {},
   "source": [
    "## - it is mentioned in task that she had only two symptoms but this program can intake 7 SYMPTOMS as inputs"
   ]
  },
  {
   "cell_type": "markdown",
   "id": "53a80fa1",
   "metadata": {},
   "source": [
    "## - only covid symptom dataset was available online & malaria's dataset contained microscopic images only"
   ]
  },
  {
   "cell_type": "markdown",
   "id": "b232330c",
   "metadata": {},
   "source": [
    "## - i created malaria's dataset mannually by studying it's symptoms online which was quite time consuming"
   ]
  },
  {
   "cell_type": "markdown",
   "id": "ec227de2",
   "metadata": {},
   "source": [
    "## IMPORTING RELEVANT LIBRARIES"
   ]
  },
  {
   "cell_type": "code",
   "execution_count": 149,
   "id": "33d4b9ca",
   "metadata": {},
   "outputs": [],
   "source": [
    "import numpy as np\n",
    "import pandas as pd"
   ]
  },
  {
   "cell_type": "markdown",
   "id": "59ebb9a9",
   "metadata": {},
   "source": [
    "## LOADING THE DATA"
   ]
  },
  {
   "cell_type": "code",
   "execution_count": 150,
   "id": "f60ca49e",
   "metadata": {},
   "outputs": [],
   "source": [
    "df1 = pd.read_excel('dataset.xlsx')"
   ]
  },
  {
   "cell_type": "markdown",
   "id": "a2837df0",
   "metadata": {},
   "source": [
    "## CHECKING THE DATAHEAD"
   ]
  },
  {
   "cell_type": "code",
   "execution_count": 151,
   "id": "573a12b7",
   "metadata": {},
   "outputs": [
    {
     "data": {
      "text/html": [
       "<div>\n",
       "<style scoped>\n",
       "    .dataframe tbody tr th:only-of-type {\n",
       "        vertical-align: middle;\n",
       "    }\n",
       "\n",
       "    .dataframe tbody tr th {\n",
       "        vertical-align: top;\n",
       "    }\n",
       "\n",
       "    .dataframe thead th {\n",
       "        text-align: right;\n",
       "    }\n",
       "</style>\n",
       "<table border=\"1\" class=\"dataframe\">\n",
       "  <thead>\n",
       "    <tr style=\"text-align: right;\">\n",
       "      <th></th>\n",
       "      <th>cough</th>\n",
       "      <th>fever</th>\n",
       "      <th>sore_throat</th>\n",
       "      <th>shortness_of_breath</th>\n",
       "      <th>head_ache</th>\n",
       "      <th>vomiting</th>\n",
       "      <th>chills</th>\n",
       "      <th>covid</th>\n",
       "      <th>malaria</th>\n",
       "      <th>flu</th>\n",
       "    </tr>\n",
       "  </thead>\n",
       "  <tbody>\n",
       "    <tr>\n",
       "      <th>0</th>\n",
       "      <td>1</td>\n",
       "      <td>0</td>\n",
       "      <td>0</td>\n",
       "      <td>0</td>\n",
       "      <td>0</td>\n",
       "      <td>0</td>\n",
       "      <td>0</td>\n",
       "      <td>1</td>\n",
       "      <td>0</td>\n",
       "      <td>0</td>\n",
       "    </tr>\n",
       "    <tr>\n",
       "      <th>1</th>\n",
       "      <td>0</td>\n",
       "      <td>0</td>\n",
       "      <td>0</td>\n",
       "      <td>0</td>\n",
       "      <td>0</td>\n",
       "      <td>0</td>\n",
       "      <td>0</td>\n",
       "      <td>1</td>\n",
       "      <td>0</td>\n",
       "      <td>0</td>\n",
       "    </tr>\n",
       "    <tr>\n",
       "      <th>2</th>\n",
       "      <td>1</td>\n",
       "      <td>0</td>\n",
       "      <td>0</td>\n",
       "      <td>0</td>\n",
       "      <td>0</td>\n",
       "      <td>0</td>\n",
       "      <td>0</td>\n",
       "      <td>1</td>\n",
       "      <td>0</td>\n",
       "      <td>0</td>\n",
       "    </tr>\n",
       "    <tr>\n",
       "      <th>3</th>\n",
       "      <td>0</td>\n",
       "      <td>1</td>\n",
       "      <td>0</td>\n",
       "      <td>0</td>\n",
       "      <td>1</td>\n",
       "      <td>0</td>\n",
       "      <td>0</td>\n",
       "      <td>1</td>\n",
       "      <td>0</td>\n",
       "      <td>0</td>\n",
       "    </tr>\n",
       "    <tr>\n",
       "      <th>4</th>\n",
       "      <td>0</td>\n",
       "      <td>1</td>\n",
       "      <td>0</td>\n",
       "      <td>0</td>\n",
       "      <td>0</td>\n",
       "      <td>0</td>\n",
       "      <td>0</td>\n",
       "      <td>1</td>\n",
       "      <td>0</td>\n",
       "      <td>0</td>\n",
       "    </tr>\n",
       "  </tbody>\n",
       "</table>\n",
       "</div>"
      ],
      "text/plain": [
       "   cough  fever  sore_throat  shortness_of_breath  head_ache  vomiting  \\\n",
       "0      1      0            0                    0          0         0   \n",
       "1      0      0            0                    0          0         0   \n",
       "2      1      0            0                    0          0         0   \n",
       "3      0      1            0                    0          1         0   \n",
       "4      0      1            0                    0          0         0   \n",
       "\n",
       "   chills  covid  malaria  flu  \n",
       "0       0      1        0    0  \n",
       "1       0      1        0    0  \n",
       "2       0      1        0    0  \n",
       "3       0      1        0    0  \n",
       "4       0      1        0    0  "
      ]
     },
     "execution_count": 151,
     "metadata": {},
     "output_type": "execute_result"
    }
   ],
   "source": [
    "df1.head()"
   ]
  },
  {
   "cell_type": "markdown",
   "id": "cb255775",
   "metadata": {},
   "source": [
    "## SHUFFLING THE DATA"
   ]
  },
  {
   "cell_type": "code",
   "execution_count": 152,
   "id": "720df290",
   "metadata": {},
   "outputs": [],
   "source": [
    "df2=df1.sample(frac=1)"
   ]
  },
  {
   "cell_type": "code",
   "execution_count": 153,
   "id": "52711714",
   "metadata": {
    "scrolled": true
   },
   "outputs": [
    {
     "data": {
      "text/html": [
       "<div>\n",
       "<style scoped>\n",
       "    .dataframe tbody tr th:only-of-type {\n",
       "        vertical-align: middle;\n",
       "    }\n",
       "\n",
       "    .dataframe tbody tr th {\n",
       "        vertical-align: top;\n",
       "    }\n",
       "\n",
       "    .dataframe thead th {\n",
       "        text-align: right;\n",
       "    }\n",
       "</style>\n",
       "<table border=\"1\" class=\"dataframe\">\n",
       "  <thead>\n",
       "    <tr style=\"text-align: right;\">\n",
       "      <th></th>\n",
       "      <th>cough</th>\n",
       "      <th>fever</th>\n",
       "      <th>sore_throat</th>\n",
       "      <th>shortness_of_breath</th>\n",
       "      <th>head_ache</th>\n",
       "      <th>vomiting</th>\n",
       "      <th>chills</th>\n",
       "      <th>covid</th>\n",
       "      <th>malaria</th>\n",
       "      <th>flu</th>\n",
       "    </tr>\n",
       "  </thead>\n",
       "  <tbody>\n",
       "    <tr>\n",
       "      <th>669</th>\n",
       "      <td>0</td>\n",
       "      <td>0</td>\n",
       "      <td>0</td>\n",
       "      <td>0</td>\n",
       "      <td>0</td>\n",
       "      <td>0</td>\n",
       "      <td>0</td>\n",
       "      <td>1</td>\n",
       "      <td>0</td>\n",
       "      <td>0</td>\n",
       "    </tr>\n",
       "    <tr>\n",
       "      <th>2516</th>\n",
       "      <td>0</td>\n",
       "      <td>0</td>\n",
       "      <td>0</td>\n",
       "      <td>0</td>\n",
       "      <td>0</td>\n",
       "      <td>0</td>\n",
       "      <td>1</td>\n",
       "      <td>0</td>\n",
       "      <td>0</td>\n",
       "      <td>1</td>\n",
       "    </tr>\n",
       "    <tr>\n",
       "      <th>2615</th>\n",
       "      <td>0</td>\n",
       "      <td>0</td>\n",
       "      <td>0</td>\n",
       "      <td>0</td>\n",
       "      <td>0</td>\n",
       "      <td>0</td>\n",
       "      <td>0</td>\n",
       "      <td>0</td>\n",
       "      <td>0</td>\n",
       "      <td>1</td>\n",
       "    </tr>\n",
       "    <tr>\n",
       "      <th>2523</th>\n",
       "      <td>0</td>\n",
       "      <td>0</td>\n",
       "      <td>0</td>\n",
       "      <td>0</td>\n",
       "      <td>0</td>\n",
       "      <td>0</td>\n",
       "      <td>1</td>\n",
       "      <td>0</td>\n",
       "      <td>0</td>\n",
       "      <td>1</td>\n",
       "    </tr>\n",
       "    <tr>\n",
       "      <th>17</th>\n",
       "      <td>1</td>\n",
       "      <td>0</td>\n",
       "      <td>0</td>\n",
       "      <td>0</td>\n",
       "      <td>0</td>\n",
       "      <td>0</td>\n",
       "      <td>0</td>\n",
       "      <td>1</td>\n",
       "      <td>0</td>\n",
       "      <td>0</td>\n",
       "    </tr>\n",
       "  </tbody>\n",
       "</table>\n",
       "</div>"
      ],
      "text/plain": [
       "      cough  fever  sore_throat  shortness_of_breath  head_ache  vomiting  \\\n",
       "669       0      0            0                    0          0         0   \n",
       "2516      0      0            0                    0          0         0   \n",
       "2615      0      0            0                    0          0         0   \n",
       "2523      0      0            0                    0          0         0   \n",
       "17        1      0            0                    0          0         0   \n",
       "\n",
       "      chills  covid  malaria  flu  \n",
       "669        0      1        0    0  \n",
       "2516       1      0        0    1  \n",
       "2615       0      0        0    1  \n",
       "2523       1      0        0    1  \n",
       "17         0      1        0    0  "
      ]
     },
     "execution_count": 153,
     "metadata": {},
     "output_type": "execute_result"
    }
   ],
   "source": [
    "df2.head()"
   ]
  },
  {
   "cell_type": "markdown",
   "id": "dacfdace",
   "metadata": {},
   "source": [
    "## IMPORTING SKLEARN TO SPLIT THE DATASET"
   ]
  },
  {
   "cell_type": "code",
   "execution_count": 154,
   "id": "abd632aa",
   "metadata": {},
   "outputs": [],
   "source": [
    "from sklearn.model_selection import train_test_split\n",
    "from sklearn.metrics import accuracy_score"
   ]
  },
  {
   "cell_type": "markdown",
   "id": "87e7582f",
   "metadata": {},
   "source": [
    "## ASSIGNING THE INPUT AND TARGET COLUMNS"
   ]
  },
  {
   "cell_type": "code",
   "execution_count": 155,
   "id": "d0822972",
   "metadata": {},
   "outputs": [],
   "source": [
    "x = df2.drop(columns = ['covid','malaria','flu'],axis=1)\n",
    "k = df2[['covid','malaria','flu']]"
   ]
  },
  {
   "cell_type": "code",
   "execution_count": 156,
   "id": "cbaf2f7c",
   "metadata": {},
   "outputs": [
    {
     "data": {
      "text/html": [
       "<div>\n",
       "<style scoped>\n",
       "    .dataframe tbody tr th:only-of-type {\n",
       "        vertical-align: middle;\n",
       "    }\n",
       "\n",
       "    .dataframe tbody tr th {\n",
       "        vertical-align: top;\n",
       "    }\n",
       "\n",
       "    .dataframe thead th {\n",
       "        text-align: right;\n",
       "    }\n",
       "</style>\n",
       "<table border=\"1\" class=\"dataframe\">\n",
       "  <thead>\n",
       "    <tr style=\"text-align: right;\">\n",
       "      <th></th>\n",
       "      <th>cough</th>\n",
       "      <th>fever</th>\n",
       "      <th>sore_throat</th>\n",
       "      <th>shortness_of_breath</th>\n",
       "      <th>head_ache</th>\n",
       "      <th>vomiting</th>\n",
       "      <th>chills</th>\n",
       "    </tr>\n",
       "  </thead>\n",
       "  <tbody>\n",
       "    <tr>\n",
       "      <th>669</th>\n",
       "      <td>0</td>\n",
       "      <td>0</td>\n",
       "      <td>0</td>\n",
       "      <td>0</td>\n",
       "      <td>0</td>\n",
       "      <td>0</td>\n",
       "      <td>0</td>\n",
       "    </tr>\n",
       "    <tr>\n",
       "      <th>2516</th>\n",
       "      <td>0</td>\n",
       "      <td>0</td>\n",
       "      <td>0</td>\n",
       "      <td>0</td>\n",
       "      <td>0</td>\n",
       "      <td>0</td>\n",
       "      <td>1</td>\n",
       "    </tr>\n",
       "    <tr>\n",
       "      <th>2615</th>\n",
       "      <td>0</td>\n",
       "      <td>0</td>\n",
       "      <td>0</td>\n",
       "      <td>0</td>\n",
       "      <td>0</td>\n",
       "      <td>0</td>\n",
       "      <td>0</td>\n",
       "    </tr>\n",
       "    <tr>\n",
       "      <th>2523</th>\n",
       "      <td>0</td>\n",
       "      <td>0</td>\n",
       "      <td>0</td>\n",
       "      <td>0</td>\n",
       "      <td>0</td>\n",
       "      <td>0</td>\n",
       "      <td>1</td>\n",
       "    </tr>\n",
       "    <tr>\n",
       "      <th>17</th>\n",
       "      <td>1</td>\n",
       "      <td>0</td>\n",
       "      <td>0</td>\n",
       "      <td>0</td>\n",
       "      <td>0</td>\n",
       "      <td>0</td>\n",
       "      <td>0</td>\n",
       "    </tr>\n",
       "    <tr>\n",
       "      <th>...</th>\n",
       "      <td>...</td>\n",
       "      <td>...</td>\n",
       "      <td>...</td>\n",
       "      <td>...</td>\n",
       "      <td>...</td>\n",
       "      <td>...</td>\n",
       "      <td>...</td>\n",
       "    </tr>\n",
       "    <tr>\n",
       "      <th>507</th>\n",
       "      <td>0</td>\n",
       "      <td>0</td>\n",
       "      <td>0</td>\n",
       "      <td>0</td>\n",
       "      <td>0</td>\n",
       "      <td>0</td>\n",
       "      <td>0</td>\n",
       "    </tr>\n",
       "    <tr>\n",
       "      <th>1209</th>\n",
       "      <td>0</td>\n",
       "      <td>0</td>\n",
       "      <td>0</td>\n",
       "      <td>0</td>\n",
       "      <td>1</td>\n",
       "      <td>1</td>\n",
       "      <td>0</td>\n",
       "    </tr>\n",
       "    <tr>\n",
       "      <th>385</th>\n",
       "      <td>0</td>\n",
       "      <td>0</td>\n",
       "      <td>0</td>\n",
       "      <td>0</td>\n",
       "      <td>0</td>\n",
       "      <td>0</td>\n",
       "      <td>0</td>\n",
       "    </tr>\n",
       "    <tr>\n",
       "      <th>2407</th>\n",
       "      <td>0</td>\n",
       "      <td>0</td>\n",
       "      <td>0</td>\n",
       "      <td>0</td>\n",
       "      <td>0</td>\n",
       "      <td>0</td>\n",
       "      <td>1</td>\n",
       "    </tr>\n",
       "    <tr>\n",
       "      <th>1559</th>\n",
       "      <td>0</td>\n",
       "      <td>0</td>\n",
       "      <td>0</td>\n",
       "      <td>0</td>\n",
       "      <td>0</td>\n",
       "      <td>0</td>\n",
       "      <td>0</td>\n",
       "    </tr>\n",
       "  </tbody>\n",
       "</table>\n",
       "<p>3000 rows × 7 columns</p>\n",
       "</div>"
      ],
      "text/plain": [
       "      cough  fever  sore_throat  shortness_of_breath  head_ache  vomiting  \\\n",
       "669       0      0            0                    0          0         0   \n",
       "2516      0      0            0                    0          0         0   \n",
       "2615      0      0            0                    0          0         0   \n",
       "2523      0      0            0                    0          0         0   \n",
       "17        1      0            0                    0          0         0   \n",
       "...     ...    ...          ...                  ...        ...       ...   \n",
       "507       0      0            0                    0          0         0   \n",
       "1209      0      0            0                    0          1         1   \n",
       "385       0      0            0                    0          0         0   \n",
       "2407      0      0            0                    0          0         0   \n",
       "1559      0      0            0                    0          0         0   \n",
       "\n",
       "      chills  \n",
       "669        0  \n",
       "2516       1  \n",
       "2615       0  \n",
       "2523       1  \n",
       "17         0  \n",
       "...      ...  \n",
       "507        0  \n",
       "1209       0  \n",
       "385        0  \n",
       "2407       1  \n",
       "1559       0  \n",
       "\n",
       "[3000 rows x 7 columns]"
      ]
     },
     "execution_count": 156,
     "metadata": {},
     "output_type": "execute_result"
    }
   ],
   "source": [
    "x"
   ]
  },
  {
   "cell_type": "code",
   "execution_count": 157,
   "id": "dc58b3c0",
   "metadata": {},
   "outputs": [
    {
     "data": {
      "text/html": [
       "<div>\n",
       "<style scoped>\n",
       "    .dataframe tbody tr th:only-of-type {\n",
       "        vertical-align: middle;\n",
       "    }\n",
       "\n",
       "    .dataframe tbody tr th {\n",
       "        vertical-align: top;\n",
       "    }\n",
       "\n",
       "    .dataframe thead th {\n",
       "        text-align: right;\n",
       "    }\n",
       "</style>\n",
       "<table border=\"1\" class=\"dataframe\">\n",
       "  <thead>\n",
       "    <tr style=\"text-align: right;\">\n",
       "      <th></th>\n",
       "      <th>covid</th>\n",
       "      <th>malaria</th>\n",
       "      <th>flu</th>\n",
       "    </tr>\n",
       "  </thead>\n",
       "  <tbody>\n",
       "    <tr>\n",
       "      <th>669</th>\n",
       "      <td>1</td>\n",
       "      <td>0</td>\n",
       "      <td>0</td>\n",
       "    </tr>\n",
       "    <tr>\n",
       "      <th>2516</th>\n",
       "      <td>0</td>\n",
       "      <td>0</td>\n",
       "      <td>1</td>\n",
       "    </tr>\n",
       "    <tr>\n",
       "      <th>2615</th>\n",
       "      <td>0</td>\n",
       "      <td>0</td>\n",
       "      <td>1</td>\n",
       "    </tr>\n",
       "    <tr>\n",
       "      <th>2523</th>\n",
       "      <td>0</td>\n",
       "      <td>0</td>\n",
       "      <td>1</td>\n",
       "    </tr>\n",
       "    <tr>\n",
       "      <th>17</th>\n",
       "      <td>1</td>\n",
       "      <td>0</td>\n",
       "      <td>0</td>\n",
       "    </tr>\n",
       "    <tr>\n",
       "      <th>...</th>\n",
       "      <td>...</td>\n",
       "      <td>...</td>\n",
       "      <td>...</td>\n",
       "    </tr>\n",
       "    <tr>\n",
       "      <th>507</th>\n",
       "      <td>1</td>\n",
       "      <td>0</td>\n",
       "      <td>0</td>\n",
       "    </tr>\n",
       "    <tr>\n",
       "      <th>1209</th>\n",
       "      <td>0</td>\n",
       "      <td>1</td>\n",
       "      <td>0</td>\n",
       "    </tr>\n",
       "    <tr>\n",
       "      <th>385</th>\n",
       "      <td>1</td>\n",
       "      <td>0</td>\n",
       "      <td>0</td>\n",
       "    </tr>\n",
       "    <tr>\n",
       "      <th>2407</th>\n",
       "      <td>0</td>\n",
       "      <td>0</td>\n",
       "      <td>1</td>\n",
       "    </tr>\n",
       "    <tr>\n",
       "      <th>1559</th>\n",
       "      <td>0</td>\n",
       "      <td>1</td>\n",
       "      <td>0</td>\n",
       "    </tr>\n",
       "  </tbody>\n",
       "</table>\n",
       "<p>3000 rows × 3 columns</p>\n",
       "</div>"
      ],
      "text/plain": [
       "      covid  malaria  flu\n",
       "669       1        0    0\n",
       "2516      0        0    1\n",
       "2615      0        0    1\n",
       "2523      0        0    1\n",
       "17        1        0    0\n",
       "...     ...      ...  ...\n",
       "507       1        0    0\n",
       "1209      0        1    0\n",
       "385       1        0    0\n",
       "2407      0        0    1\n",
       "1559      0        1    0\n",
       "\n",
       "[3000 rows x 3 columns]"
      ]
     },
     "execution_count": 157,
     "metadata": {},
     "output_type": "execute_result"
    }
   ],
   "source": [
    "k"
   ]
  },
  {
   "cell_type": "markdown",
   "id": "46b8346e",
   "metadata": {},
   "source": [
    "## IMPORTING RELEVANT LIBRARIES"
   ]
  },
  {
   "cell_type": "code",
   "execution_count": 158,
   "id": "f7af8fe1",
   "metadata": {},
   "outputs": [],
   "source": [
    "from tensorflow.keras.models import Sequential\n",
    "from tensorflow.keras.layers import Dense\n",
    "from tensorflow.keras.losses import binary_crossentropy\n",
    "from tensorflow.keras.optimizers import Adam"
   ]
  },
  {
   "cell_type": "markdown",
   "id": "f3492ccf",
   "metadata": {},
   "source": [
    "## SELECTING FEATURES"
   ]
  },
  {
   "cell_type": "code",
   "execution_count": 168,
   "id": "8cd7a921",
   "metadata": {},
   "outputs": [],
   "source": [
    "n_samples = 3000\n",
    "n_features = 7\n",
    "n_classes = 3\n",
    "n_labels = 2\n",
    "n_epochs = 50\n",
    "random_state = 42\n",
    "batch_size = 250\n",
    "verbosity = 1\n",
    "validation_split = 0.2"
   ]
  },
  {
   "cell_type": "markdown",
   "id": "3d63b5e6",
   "metadata": {},
   "source": [
    "## TRAINING AND TESTING"
   ]
  },
  {
   "cell_type": "code",
   "execution_count": 169,
   "id": "6f8988d3",
   "metadata": {},
   "outputs": [],
   "source": [
    "X_train, X_test, y_train, y_test = train_test_split(x, k, test_size=0.33,stratify = k,random_state=random_state)"
   ]
  },
  {
   "cell_type": "markdown",
   "id": "0b759480",
   "metadata": {},
   "source": [
    "## CREATING MODEL"
   ]
  },
  {
   "cell_type": "code",
   "execution_count": 170,
   "id": "829e74a0",
   "metadata": {},
   "outputs": [],
   "source": [
    "model = Sequential()\n",
    "model.add(Dense(32, activation='relu', input_dim=n_features))\n",
    "model.add(Dense(16, activation='relu'))\n",
    "model.add(Dense(8, activation='relu'))\n",
    "model.add(Dense(n_classes, activation='sigmoid'))"
   ]
  },
  {
   "cell_type": "markdown",
   "id": "9dfb40ed",
   "metadata": {},
   "source": [
    "## COMPILING THE MODEL"
   ]
  },
  {
   "cell_type": "code",
   "execution_count": 171,
   "id": "02ec0e1d",
   "metadata": {},
   "outputs": [],
   "source": [
    "model.compile(loss=binary_crossentropy,\n",
    "              optimizer=Adam(),\n",
    "              metrics=['accuracy'])"
   ]
  },
  {
   "cell_type": "markdown",
   "id": "ce375e42",
   "metadata": {},
   "source": [
    "## FITTING THE TRAIN & TEST DATA"
   ]
  },
  {
   "cell_type": "code",
   "execution_count": 172,
   "id": "41510fde",
   "metadata": {
    "scrolled": false
   },
   "outputs": [
    {
     "name": "stdout",
     "output_type": "stream",
     "text": [
      "Epoch 1/50\n",
      "7/7 [==============================] - 5s 140ms/step - loss: 0.6885 - accuracy: 0.2326 - val_loss: 0.6826 - val_accuracy: 0.4080\n",
      "Epoch 2/50\n",
      "7/7 [==============================] - 0s 42ms/step - loss: 0.6802 - accuracy: 0.3924 - val_loss: 0.6742 - val_accuracy: 0.4428\n",
      "Epoch 3/50\n",
      "7/7 [==============================] - 0s 62ms/step - loss: 0.6718 - accuracy: 0.4136 - val_loss: 0.6647 - val_accuracy: 0.4403\n",
      "Epoch 4/50\n",
      "7/7 [==============================] - 0s 71ms/step - loss: 0.6627 - accuracy: 0.4266 - val_loss: 0.6544 - val_accuracy: 0.5075\n",
      "Epoch 5/50\n",
      "7/7 [==============================] - 0s 55ms/step - loss: 0.6527 - accuracy: 0.3644 - val_loss: 0.6438 - val_accuracy: 0.3433\n",
      "Epoch 6/50\n",
      "7/7 [==============================] - 0s 67ms/step - loss: 0.6421 - accuracy: 0.3327 - val_loss: 0.6338 - val_accuracy: 0.3433\n",
      "Epoch 7/50\n",
      "7/7 [==============================] - 0s 38ms/step - loss: 0.6327 - accuracy: 0.3327 - val_loss: 0.6241 - val_accuracy: 0.3433\n",
      "Epoch 8/50\n",
      "7/7 [==============================] - 0s 59ms/step - loss: 0.6237 - accuracy: 0.3327 - val_loss: 0.6149 - val_accuracy: 0.3433\n",
      "Epoch 9/50\n",
      "7/7 [==============================] - 0s 41ms/step - loss: 0.6149 - accuracy: 0.3327 - val_loss: 0.6058 - val_accuracy: 0.3433\n",
      "Epoch 10/50\n",
      "7/7 [==============================] - 0s 40ms/step - loss: 0.6063 - accuracy: 0.3327 - val_loss: 0.5969 - val_accuracy: 0.3433\n",
      "Epoch 11/50\n",
      "7/7 [==============================] - 0s 50ms/step - loss: 0.5978 - accuracy: 0.3327 - val_loss: 0.5880 - val_accuracy: 0.3458\n",
      "Epoch 12/50\n",
      "7/7 [==============================] - 0s 50ms/step - loss: 0.5893 - accuracy: 0.4005 - val_loss: 0.5790 - val_accuracy: 0.4428\n",
      "Epoch 13/50\n",
      "7/7 [==============================] - 0s 46ms/step - loss: 0.5807 - accuracy: 0.4571 - val_loss: 0.5702 - val_accuracy: 0.5025\n",
      "Epoch 14/50\n",
      "7/7 [==============================] - 0s 51ms/step - loss: 0.5722 - accuracy: 0.5068 - val_loss: 0.5612 - val_accuracy: 0.4751\n",
      "Epoch 15/50\n",
      "7/7 [==============================] - 0s 48ms/step - loss: 0.5629 - accuracy: 0.5653 - val_loss: 0.5512 - val_accuracy: 0.6045\n",
      "Epoch 16/50\n",
      "7/7 [==============================] - 0s 42ms/step - loss: 0.5529 - accuracy: 0.6014 - val_loss: 0.5405 - val_accuracy: 0.6045\n",
      "Epoch 17/50\n",
      "7/7 [==============================] - 0s 65ms/step - loss: 0.5424 - accuracy: 0.6057 - val_loss: 0.5297 - val_accuracy: 0.6119\n",
      "Epoch 18/50\n",
      "7/7 [==============================] - 0s 66ms/step - loss: 0.5318 - accuracy: 0.6063 - val_loss: 0.5189 - val_accuracy: 0.6517\n",
      "Epoch 19/50\n",
      "7/7 [==============================] - 1s 96ms/step - loss: 0.5211 - accuracy: 0.6350 - val_loss: 0.5086 - val_accuracy: 0.6517\n",
      "Epoch 20/50\n",
      "7/7 [==============================] - 0s 75ms/step - loss: 0.5103 - accuracy: 0.6362 - val_loss: 0.4978 - val_accuracy: 0.6493\n",
      "Epoch 21/50\n",
      "7/7 [==============================] - 1s 98ms/step - loss: 0.4995 - accuracy: 0.6368 - val_loss: 0.4871 - val_accuracy: 0.6493\n",
      "Epoch 22/50\n",
      "7/7 [==============================] - 0s 42ms/step - loss: 0.4885 - accuracy: 0.6387 - val_loss: 0.4768 - val_accuracy: 0.6493\n",
      "Epoch 23/50\n",
      "7/7 [==============================] - 0s 51ms/step - loss: 0.4779 - accuracy: 0.6387 - val_loss: 0.4670 - val_accuracy: 0.6493\n",
      "Epoch 24/50\n",
      "7/7 [==============================] - 0s 52ms/step - loss: 0.4677 - accuracy: 0.6381 - val_loss: 0.4577 - val_accuracy: 0.6493\n",
      "Epoch 25/50\n",
      "7/7 [==============================] - 0s 44ms/step - loss: 0.4580 - accuracy: 0.6381 - val_loss: 0.4496 - val_accuracy: 0.6493\n",
      "Epoch 26/50\n",
      "7/7 [==============================] - 0s 53ms/step - loss: 0.4490 - accuracy: 0.6374 - val_loss: 0.4414 - val_accuracy: 0.6468\n",
      "Epoch 27/50\n",
      "7/7 [==============================] - 0s 63ms/step - loss: 0.4403 - accuracy: 0.6542 - val_loss: 0.4338 - val_accuracy: 0.6692\n",
      "Epoch 28/50\n",
      "7/7 [==============================] - 1s 75ms/step - loss: 0.4323 - accuracy: 0.6810 - val_loss: 0.4274 - val_accuracy: 0.6667\n",
      "Epoch 29/50\n",
      "7/7 [==============================] - 1s 110ms/step - loss: 0.4249 - accuracy: 0.6797 - val_loss: 0.4216 - val_accuracy: 0.6692\n",
      "Epoch 30/50\n",
      "7/7 [==============================] - 0s 68ms/step - loss: 0.4186 - accuracy: 0.6810 - val_loss: 0.4171 - val_accuracy: 0.6667\n",
      "Epoch 31/50\n",
      "7/7 [==============================] - 0s 58ms/step - loss: 0.4131 - accuracy: 0.6791 - val_loss: 0.4131 - val_accuracy: 0.6667\n",
      "Epoch 32/50\n",
      "7/7 [==============================] - 0s 69ms/step - loss: 0.4082 - accuracy: 0.6791 - val_loss: 0.4105 - val_accuracy: 0.6667\n",
      "Epoch 33/50\n",
      "7/7 [==============================] - 1s 78ms/step - loss: 0.4043 - accuracy: 0.6791 - val_loss: 0.4075 - val_accuracy: 0.6667\n",
      "Epoch 34/50\n",
      "7/7 [==============================] - 0s 61ms/step - loss: 0.4007 - accuracy: 0.6828 - val_loss: 0.4046 - val_accuracy: 0.6692\n",
      "Epoch 35/50\n",
      "7/7 [==============================] - 1s 119ms/step - loss: 0.3977 - accuracy: 0.6859 - val_loss: 0.4024 - val_accuracy: 0.6692\n",
      "Epoch 36/50\n",
      "7/7 [==============================] - 0s 69ms/step - loss: 0.3951 - accuracy: 0.6859 - val_loss: 0.4004 - val_accuracy: 0.6692\n",
      "Epoch 37/50\n",
      "7/7 [==============================] - 0s 66ms/step - loss: 0.3931 - accuracy: 0.6859 - val_loss: 0.3995 - val_accuracy: 0.6692\n",
      "Epoch 38/50\n",
      "7/7 [==============================] - 0s 46ms/step - loss: 0.3914 - accuracy: 0.6816 - val_loss: 0.3992 - val_accuracy: 0.6692\n",
      "Epoch 39/50\n",
      "7/7 [==============================] - 1s 105ms/step - loss: 0.3894 - accuracy: 0.6859 - val_loss: 0.3977 - val_accuracy: 0.6692\n",
      "Epoch 40/50\n",
      "7/7 [==============================] - 0s 61ms/step - loss: 0.3877 - accuracy: 0.6859 - val_loss: 0.3967 - val_accuracy: 0.6692\n",
      "Epoch 41/50\n",
      "7/7 [==============================] - 0s 62ms/step - loss: 0.3869 - accuracy: 0.6859 - val_loss: 0.3963 - val_accuracy: 0.6692\n",
      "Epoch 42/50\n",
      "7/7 [==============================] - 1s 107ms/step - loss: 0.3868 - accuracy: 0.6859 - val_loss: 0.3970 - val_accuracy: 0.6692\n",
      "Epoch 43/50\n",
      "7/7 [==============================] - 1s 116ms/step - loss: 0.3847 - accuracy: 0.6859 - val_loss: 0.3960 - val_accuracy: 0.6692\n",
      "Epoch 44/50\n",
      "7/7 [==============================] - 0s 74ms/step - loss: 0.3838 - accuracy: 0.6859 - val_loss: 0.3956 - val_accuracy: 0.6692\n",
      "Epoch 45/50\n",
      "7/7 [==============================] - 0s 46ms/step - loss: 0.3830 - accuracy: 0.6859 - val_loss: 0.3951 - val_accuracy: 0.6692\n",
      "Epoch 46/50\n",
      "7/7 [==============================] - 0s 48ms/step - loss: 0.3823 - accuracy: 0.6859 - val_loss: 0.3951 - val_accuracy: 0.6692\n",
      "Epoch 47/50\n",
      "7/7 [==============================] - 0s 45ms/step - loss: 0.3817 - accuracy: 0.6859 - val_loss: 0.3947 - val_accuracy: 0.6692\n",
      "Epoch 48/50\n",
      "7/7 [==============================] - 0s 56ms/step - loss: 0.3812 - accuracy: 0.6859 - val_loss: 0.3948 - val_accuracy: 0.6692\n",
      "Epoch 49/50\n",
      "7/7 [==============================] - 0s 58ms/step - loss: 0.3807 - accuracy: 0.6866 - val_loss: 0.3945 - val_accuracy: 0.6692\n",
      "Epoch 50/50\n",
      "7/7 [==============================] - 0s 71ms/step - loss: 0.3799 - accuracy: 0.6866 - val_loss: 0.3942 - val_accuracy: 0.6692\n"
     ]
    },
    {
     "data": {
      "text/plain": [
       "<tensorflow.python.keras.callbacks.History at 0x22faa4f0>"
      ]
     },
     "execution_count": 172,
     "metadata": {},
     "output_type": "execute_result"
    }
   ],
   "source": [
    "model.fit(X_train, y_train,\n",
    "          batch_size=batch_size,\n",
    "          epochs=n_epochs,\n",
    "          verbose=verbosity,\n",
    "          validation_split=validation_split)"
   ]
  },
  {
   "cell_type": "markdown",
   "id": "915b9a53",
   "metadata": {},
   "source": [
    "## CHECKING FOR ACCURACY"
   ]
  },
  {
   "cell_type": "code",
   "execution_count": 173,
   "id": "9122358b",
   "metadata": {},
   "outputs": [],
   "source": [
    "score = model.evaluate(X_test, y_test, verbose=0)"
   ]
  },
  {
   "cell_type": "code",
   "execution_count": 174,
   "id": "37b0121c",
   "metadata": {},
   "outputs": [
    {
     "name": "stdout",
     "output_type": "stream",
     "text": [
      "Test loss: 0.3836374580860138 / Test accuracy: 0.6898989677429199\n"
     ]
    }
   ],
   "source": [
    "print(f'Test loss: {score[0]} / Test accuracy: {score[1]}')"
   ]
  },
  {
   "cell_type": "markdown",
   "id": "62876077",
   "metadata": {},
   "source": [
    "## PREDICTING DISEASE ON THE BASIS OF GIVEN SYMPTOMS (FEVER & HEADACHE)"
   ]
  },
  {
   "cell_type": "code",
   "execution_count": 175,
   "id": "54f20c4a",
   "metadata": {},
   "outputs": [
    {
     "name": "stdout",
     "output_type": "stream",
     "text": [
      "Do You Have: cough\n",
      "Enter 1 = Yes,0 = No:0\n",
      "Do You Have: fever\n",
      "Enter 1 = Yes,0 = No:1\n",
      "Do You Have: sore_throat\n",
      "Enter 1 = Yes,0 = No:0\n",
      "Do You Have: shortness_of_breath\n",
      "Enter 1 = Yes,0 = No:0\n",
      "Do You Have: head_ache\n",
      "Enter 1 = Yes,0 = No:1\n",
      "Do You Have: vomiting\n",
      "Enter 1 = Yes,0 = No:0\n",
      "Do You Have: chills\n",
      "Enter 1 = Yes,0 = No:0\n",
      "   Disease  Likelihood_In_Percent\n",
      "1  Malaria                   56.0\n",
      "0    Covid                   20.0\n",
      "2      Flu                    2.0\n"
     ]
    }
   ],
   "source": [
    "cf = [] # CREATING A LIST TO STORE INPUT VALUES\n",
    "y = 0 \n",
    "while len(cf)<7:\n",
    "    z = x.columns[y] # TO PRINT THE NAME OF THE SYMPTOM IN PROMPT WHICH IS ALSO THE NAME OF THE COLUMN\n",
    "    print('Do You Have:',z) # ASKING FOR SYMPTOMS\n",
    "    symp = input('Enter 1 = Yes,0 = No:') # 1 MEANS YES AND 0 MEANS NO\n",
    "    f = symp.split(\",\") # CONVERTING IT INTO LIST\n",
    "    cf.append(f[0]) # APPENDING IT INTO LIST\n",
    "    y += 1\n",
    "    for i in range(0, len(cf)): # CONVERTING STRING LIST INTO INTEGER LIST\n",
    "        cf[i] = int(cf[i])\n",
    "        \n",
    "tr = model.predict([cf]).round(2) # MAKING PREDICTIONS AND ROUNDING OFF THE FIGURE UPTO 2 DECIMAL PLACES\n",
    "    \n",
    "hlist = [] # CREATING A LIST TO STORE THE PREDICTED VALUES\n",
    "for i in tr: # LOOPING TO EXTRACT VALUES\n",
    "    i = i*100 # MULTIPLYING BY 100 TO MAKE THIS PERCENTAGE IN HUNDREDS NOT IN DECIMALS\n",
    "    hlist.append(i[0])\n",
    "    hlist.append(i[1])\n",
    "    hlist.append(i[2])\n",
    "    df_fn = pd.DataFrame()\n",
    "    df_fn['Disease'] = ['Covid','Malaria','Flu'] # CREATING A NEW DATAFRAME AND NAMING THE COLUMNS WITH THE REQUIRED DISEASE\n",
    "    df_fn['Likelihood_In_Percent'] = hlist # STORING THE DATA IN THE APPROPRIATE ROW OF THIS NEWLY FORMED DATAFRAME\n",
    "    final = df_fn.sort_values(by='Likelihood_In_Percent', ascending=False) # PRINTING THE DATA IN DESCENDING ORDER AS REQUIRED\n",
    "    print(final)"
   ]
  },
  {
   "cell_type": "markdown",
   "id": "2bbd97c6",
   "metadata": {},
   "source": [
    "## CONCLUSION:- On the basis of given symptoms we found out that there is 56% chance that Ms Sara has MALARIA, 20% chance for COVID & 2% chance for FLU.......BUT WE CAN PUT MORE SYMPTOMS IN THAT PROMPT FOR MORE ACCURACY"
   ]
  }
 ],
 "metadata": {
  "kernelspec": {
   "display_name": "Python 3",
   "language": "python",
   "name": "python3"
  },
  "language_info": {
   "codemirror_mode": {
    "name": "ipython",
    "version": 3
   },
   "file_extension": ".py",
   "mimetype": "text/x-python",
   "name": "python",
   "nbconvert_exporter": "python",
   "pygments_lexer": "ipython3",
   "version": "3.8.8"
  }
 },
 "nbformat": 4,
 "nbformat_minor": 5
}
